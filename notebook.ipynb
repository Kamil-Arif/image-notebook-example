{
  "cells": [
    {
      "attachments": {},
      "cell_type": "markdown",
      "metadata": {
        "id": "DeVWNMahgHz7"
      },
      "source": [
        "Image link that works locally but (in some cases) not on GitHub\n",
        "\n",
        "![Local image](image.png)"
      ]
    },
    {
      "attachments": {},
      "cell_type": "markdown",
      "metadata": {},
      "source": [
        "Image that works on GitHub:\n",
        "\n",
        "![github working image](https://github.com/Kamil-Arif/image-notebook-example/blob/main/image.png?raw=true)"
      ]
    }
  ],
  "metadata": {
    "colab": {
      "provenance": []
    },
    "kernelspec": {
      "display_name": "Python 3",
      "name": "python3"
    },
    "language_info": {
      "name": "python"
    }
  },
  "nbformat": 4,
  "nbformat_minor": 0
}
